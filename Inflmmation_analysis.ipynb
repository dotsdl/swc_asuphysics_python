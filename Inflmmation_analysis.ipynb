{
 "cells": [
  {
   "cell_type": "code",
   "execution_count": 3,
   "metadata": {
    "collapsed": true
   },
   "outputs": [],
   "source": [
    "import numpy"
   ]
  },
  {
   "cell_type": "code",
   "execution_count": 8,
   "metadata": {
    "collapsed": false
   },
   "outputs": [
    {
     "data": {
      "text/plain": [
       "array([[ 0.,  0.,  1., ...,  3.,  0.,  0.],\n",
       "       [ 0.,  1.,  2., ...,  1.,  0.,  1.],\n",
       "       [ 0.,  1.,  1., ...,  2.,  1.,  1.],\n",
       "       ..., \n",
       "       [ 0.,  1.,  1., ...,  1.,  1.,  1.],\n",
       "       [ 0.,  0.,  0., ...,  0.,  2.,  0.],\n",
       "       [ 0.,  0.,  1., ...,  1.,  1.,  0.]])"
      ]
     },
     "execution_count": 8,
     "metadata": {},
     "output_type": "execute_result"
    }
   ],
   "source": [
    "numpy.loadtxt(\"inflammation-01.csv\", delimiter=',')"
   ]
  },
  {
   "cell_type": "code",
   "execution_count": 9,
   "metadata": {
    "collapsed": true
   },
   "outputs": [],
   "source": [
    "data = numpy.loadtxt(\"inflammation-01.csv\", delimiter=',')"
   ]
  },
  {
   "cell_type": "code",
   "execution_count": 10,
   "metadata": {
    "collapsed": false
   },
   "outputs": [
    {
     "data": {
      "text/plain": [
       "array([[ 0.,  0.,  1., ...,  3.,  0.,  0.],\n",
       "       [ 0.,  1.,  2., ...,  1.,  0.,  1.],\n",
       "       [ 0.,  1.,  1., ...,  2.,  1.,  1.],\n",
       "       ..., \n",
       "       [ 0.,  1.,  1., ...,  1.,  1.,  1.],\n",
       "       [ 0.,  0.,  0., ...,  0.,  2.,  0.],\n",
       "       [ 0.,  0.,  1., ...,  1.,  1.,  0.]])"
      ]
     },
     "execution_count": 10,
     "metadata": {},
     "output_type": "execute_result"
    }
   ],
   "source": [
    "data"
   ]
  },
  {
   "cell_type": "code",
   "execution_count": 11,
   "metadata": {
    "collapsed": true
   },
   "outputs": [],
   "source": [
    "weight_kg = 55"
   ]
  },
  {
   "cell_type": "code",
   "execution_count": 12,
   "metadata": {
    "collapsed": false
   },
   "outputs": [
    {
     "data": {
      "text/plain": [
       "55"
      ]
     },
     "execution_count": 12,
     "metadata": {},
     "output_type": "execute_result"
    }
   ],
   "source": [
    "weight_kg"
   ]
  },
  {
   "cell_type": "code",
   "execution_count": 13,
   "metadata": {
    "collapsed": true
   },
   "outputs": [],
   "source": [
    "weight_lb = 2.2 * weight_kg"
   ]
  },
  {
   "cell_type": "code",
   "execution_count": 17,
   "metadata": {
    "collapsed": false
   },
   "outputs": [
    {
     "data": {
      "text/plain": [
       "121.00000000000001"
      ]
     },
     "execution_count": 17,
     "metadata": {},
     "output_type": "execute_result"
    }
   ],
   "source": [
    "weight_lb"
   ]
  },
  {
   "cell_type": "code",
   "execution_count": 18,
   "metadata": {
    "collapsed": true
   },
   "outputs": [],
   "source": [
    "weight_kg = 42"
   ]
  },
  {
   "cell_type": "code",
   "execution_count": 19,
   "metadata": {
    "collapsed": false
   },
   "outputs": [
    {
     "data": {
      "text/plain": [
       "121.00000000000001"
      ]
     },
     "execution_count": 19,
     "metadata": {},
     "output_type": "execute_result"
    }
   ],
   "source": [
    "weight_lb"
   ]
  },
  {
   "cell_type": "code",
   "execution_count": 20,
   "metadata": {
    "collapsed": true
   },
   "outputs": [],
   "source": [
    "weight_lb = 2.2 * weight_kg"
   ]
  },
  {
   "cell_type": "code",
   "execution_count": 21,
   "metadata": {
    "collapsed": false
   },
   "outputs": [
    {
     "data": {
      "text/plain": [
       "92.4"
      ]
     },
     "execution_count": 21,
     "metadata": {},
     "output_type": "execute_result"
    }
   ],
   "source": [
    "weight_lb"
   ]
  },
  {
   "cell_type": "code",
   "execution_count": 23,
   "metadata": {
    "collapsed": false
   },
   "outputs": [
    {
     "data": {
      "text/plain": [
       "(60, 40)"
      ]
     },
     "execution_count": 23,
     "metadata": {},
     "output_type": "execute_result"
    }
   ],
   "source": [
    "data.shape"
   ]
  },
  {
   "cell_type": "code",
   "execution_count": 24,
   "metadata": {
    "collapsed": false
   },
   "outputs": [
    {
     "data": {
      "text/plain": [
       "6.1487499999999997"
      ]
     },
     "execution_count": 24,
     "metadata": {},
     "output_type": "execute_result"
    }
   ],
   "source": [
    "data.mean()"
   ]
  },
  {
   "cell_type": "code",
   "execution_count": 31,
   "metadata": {
    "collapsed": false
   },
   "outputs": [
    {
     "name": "stdout",
     "output_type": "stream",
     "text": [
      "mean across all patients for each day: \n"
     ]
    },
    {
     "data": {
      "text/plain": [
       "array([  0.        ,   0.45      ,   1.11666667,   1.75      ,\n",
       "         2.43333333,   3.15      ,   3.8       ,   3.88333333,\n",
       "         5.23333333,   5.51666667,   5.95      ,   5.9       ,\n",
       "         8.35      ,   7.73333333,   8.36666667,   9.5       ,\n",
       "         9.58333333,  10.63333333,  11.56666667,  12.35      ,\n",
       "        13.25      ,  11.96666667,  11.03333333,  10.16666667,\n",
       "        10.        ,   8.66666667,   9.15      ,   7.25      ,\n",
       "         7.33333333,   6.58333333,   6.06666667,   5.95      ,\n",
       "         5.11666667,   3.6       ,   3.3       ,   3.56666667,\n",
       "         2.48333333,   1.5       ,   1.13333333,   0.56666667])"
      ]
     },
     "execution_count": 31,
     "metadata": {},
     "output_type": "execute_result"
    }
   ],
   "source": [
    "print(\"mean across all patients for each day: \")\n",
    "data.mean(axis=0)"
   ]
  },
  {
   "cell_type": "code",
   "execution_count": 32,
   "metadata": {
    "collapsed": false
   },
   "outputs": [
    {
     "name": "stdout",
     "output_type": "stream",
     "text": [
      "mean across all days for each patient: \n"
     ]
    },
    {
     "data": {
      "text/plain": [
       "array([ 5.45 ,  5.425,  6.1  ,  5.9  ,  5.55 ,  6.225,  5.975,  6.65 ,\n",
       "        6.625,  6.525,  6.775,  5.8  ,  6.225,  5.75 ,  5.225,  6.3  ,\n",
       "        6.55 ,  5.7  ,  5.85 ,  6.55 ,  5.775,  5.825,  6.175,  6.1  ,\n",
       "        5.8  ,  6.425,  6.05 ,  6.025,  6.175,  6.55 ,  6.175,  6.35 ,\n",
       "        6.725,  6.125,  7.075,  5.725,  5.925,  6.15 ,  6.075,  5.75 ,\n",
       "        5.975,  5.725,  6.3  ,  5.9  ,  6.75 ,  5.925,  7.225,  6.15 ,\n",
       "        5.95 ,  6.275,  5.7  ,  6.1  ,  6.825,  5.975,  6.725,  5.7  ,\n",
       "        6.25 ,  6.4  ,  7.05 ,  5.9  ])"
      ]
     },
     "execution_count": 32,
     "metadata": {},
     "output_type": "execute_result"
    }
   ],
   "source": [
    "print(\"mean across all days for each patient: \")\n",
    "data.mean(axis=1)"
   ]
  },
  {
   "cell_type": "code",
   "execution_count": 33,
   "metadata": {
    "collapsed": false
   },
   "outputs": [
    {
     "data": {
      "text/plain": [
       "0.0"
      ]
     },
     "execution_count": 33,
     "metadata": {},
     "output_type": "execute_result"
    }
   ],
   "source": [
    "data[0,jjjb]"
   ]
  },
  {
   "cell_type": "code",
   "execution_count": 34,
   "metadata": {
    "collapsed": false
   },
   "outputs": [
    {
     "data": {
      "text/plain": [
       "2.0"
      ]
     },
     "execution_count": 34,
     "metadata": {},
     "output_type": "execute_result"
    }
   ],
   "source": [
    "data[1, 2]"
   ]
  },
  {
   "cell_type": "code",
   "execution_count": 37,
   "metadata": {
    "collapsed": false
   },
   "outputs": [
    {
     "data": {
      "text/plain": [
       "(60,)"
      ]
     },
     "execution_count": 37,
     "metadata": {},
     "output_type": "execute_result"
    }
   ],
   "source": [
    "data[:,1].shape"
   ]
  },
  {
   "cell_type": "code",
   "execution_count": 39,
   "metadata": {
    "collapsed": false
   },
   "outputs": [
    {
     "data": {
      "text/plain": [
       "array([  0.,   0.,   2.,   0.,   4.,   2.,   2.,   1.,   6.,   7.,  10.,\n",
       "         7.,   9.,  13.,   8.,   8.,  15.,  10.,  10.,   7.,  17.,   4.,\n",
       "         4.,   7.,   6.,  15.,   6.,   4.,   9.,  11.,   3.,   5.,   6.,\n",
       "         3.,   3.,   4.,   2.,   3.,   2.,   1.])"
      ]
     },
     "execution_count": 39,
     "metadata": {},
     "output_type": "execute_result"
    }
   ],
   "source": [
    "data[3, :]"
   ]
  },
  {
   "cell_type": "code",
   "execution_count": 41,
   "metadata": {
    "collapsed": false
   },
   "outputs": [
    {
     "data": {
      "text/plain": [
       "5.9000000000000004"
      ]
     },
     "execution_count": 41,
     "metadata": {},
     "output_type": "execute_result"
    }
   ],
   "source": [
    "data[3].mean()"
   ]
  },
  {
   "cell_type": "code",
   "execution_count": 43,
   "metadata": {
    "collapsed": false
   },
   "outputs": [
    {
     "data": {
      "text/plain": [
       "array([[ 1.,  2.,  1.],\n",
       "       [ 1.,  1.,  3.]])"
      ]
     },
     "execution_count": 43,
     "metadata": {},
     "output_type": "execute_result"
    }
   ],
   "source": [
    "data[1:3,1:4]"
   ]
  },
  {
   "cell_type": "markdown",
   "metadata": {},
   "source": [
    "Find the standard deviation of the mean values across all patients for each day for this slice."
   ]
  },
  {
   "cell_type": "code",
   "execution_count": 46,
   "metadata": {
    "collapsed": false
   },
   "outputs": [
    {
     "data": {
      "text/plain": [
       "0.40824829046386302"
      ]
     },
     "execution_count": 46,
     "metadata": {},
     "output_type": "execute_result"
    }
   ],
   "source": [
    "data[1:3,1:4].mean(axis=0).std()"
   ]
  },
  {
   "cell_type": "code",
   "execution_count": 47,
   "metadata": {
    "collapsed": false
   },
   "outputs": [
    {
     "data": {
      "text/plain": [
       "0.40824829046386302"
      ]
     },
     "execution_count": 47,
     "metadata": {},
     "output_type": "execute_result"
    }
   ],
   "source": [
    "numpy.std(data[1:3,1:4].mean(axis=0))"
   ]
  },
  {
   "cell_type": "code",
   "execution_count": 50,
   "metadata": {
    "collapsed": false
   },
   "outputs": [
    {
     "name": "stdout",
     "output_type": "stream",
     "text": [
      "[[ 0.  0.  2. ...,  6.  0.  0.]\n",
      " [ 0.  2.  4. ...,  2.  0.  2.]\n",
      " [ 0.  2.  2. ...,  4.  2.  2.]\n",
      " ..., \n",
      " [ 0.  2.  2. ...,  2.  2.  2.]\n",
      " [ 0.  0.  0. ...,  0.  4.  0.]\n",
      " [ 0.  0.  2. ...,  2.  2.  0.]]\n"
     ]
    }
   ],
   "source": [
    "double = data * 2\n",
    "print(double)"
   ]
  },
  {
   "cell_type": "code",
   "execution_count": 52,
   "metadata": {
    "collapsed": false
   },
   "outputs": [
    {
     "name": "stdout",
     "output_type": "stream",
     "text": [
      "[[ 0.  0.  3. ...,  9.  0.  0.]\n",
      " [ 0.  3.  6. ...,  3.  0.  3.]\n",
      " [ 0.  3.  3. ...,  6.  3.  3.]\n",
      " ..., \n",
      " [ 0.  3.  3. ...,  3.  3.  3.]\n",
      " [ 0.  0.  0. ...,  0.  6.  0.]\n",
      " [ 0.  0.  3. ...,  3.  3.  0.]]\n"
     ]
    }
   ],
   "source": [
    "triple = double + data\n",
    "print(triple)"
   ]
  },
  {
   "cell_type": "markdown",
   "metadata": {},
   "source": [
    "$3x^2$"
   ]
  },
  {
   "cell_type": "code",
   "execution_count": 53,
   "metadata": {
    "collapsed": false
   },
   "outputs": [
    {
     "data": {
      "text/plain": [
       "array([[  0.,   0.,   3., ...,  27.,   0.,   0.],\n",
       "       [  0.,   3.,  12., ...,   3.,   0.,   3.],\n",
       "       [  0.,   3.,   3., ...,  12.,   3.,   3.],\n",
       "       ..., \n",
       "       [  0.,   3.,   3., ...,   3.,   3.,   3.],\n",
       "       [  0.,   0.,   0., ...,   0.,  12.,   0.],\n",
       "       [  0.,   0.,   3., ...,   3.,   3.,   0.]])"
      ]
     },
     "execution_count": 53,
     "metadata": {},
     "output_type": "execute_result"
    }
   ],
   "source": [
    "triple * data"
   ]
  },
  {
   "cell_type": "code",
   "execution_count": 55,
   "metadata": {
    "collapsed": true
   },
   "outputs": [],
   "source": [
    "numpy.inner?"
   ]
  },
  {
   "cell_type": "code",
   "execution_count": 56,
   "metadata": {
    "collapsed": true
   },
   "outputs": [],
   "source": [
    "numpy.where?"
   ]
  },
  {
   "cell_type": "code",
   "execution_count": null,
   "metadata": {
    "collapsed": true
   },
   "outputs": [],
   "source": [
    "numpy."
   ]
  },
  {
   "cell_type": "markdown",
   "metadata": {},
   "source": [
    "# Plotting"
   ]
  },
  {
   "cell_type": "markdown",
   "metadata": {},
   "source": [
    "Now let's move on to some plotting..."
   ]
  },
  {
   "cell_type": "code",
   "execution_count": 57,
   "metadata": {
    "collapsed": true
   },
   "outputs": [],
   "source": [
    "import matplotlib.pyplot as plt"
   ]
  },
  {
   "cell_type": "code",
   "execution_count": 58,
   "metadata": {
    "collapsed": true
   },
   "outputs": [],
   "source": [
    "%matplotlib inline"
   ]
  },
  {
   "cell_type": "code",
   "execution_count": 61,
   "metadata": {
    "collapsed": false
   },
   "outputs": [
    {
     "data": {
      "text/plain": [
       "<matplotlib.image.AxesImage at 0x7fb9f5b40198>"
      ]
     },
     "execution_count": 61,
     "metadata": {},
     "output_type": "execute_result"
    },
    {
     "data": {
      "image/png": "[encoded data removed]",
      "text/plain": [
       "<matplotlib.figure.Figure at 0x7fb9f73e19e8>"
      ]
     },
     "metadata": {},
     "output_type": "display_data"
    }
   ],
   "source": [
    "plt.imshow(data)"
   ]
  },
  {
   "cell_type": "code",
   "execution_count": 62,
   "metadata": {
    "collapsed": false
   },
   "outputs": [
    {
     "data": {
      "text/plain": [
       "[<matplotlib.lines.Line2D at 0x7fb9f5aa6ac8>]"
      ]
     },
     "execution_count": 62,
     "metadata": {},
     "output_type": "execute_result"
    },
    {
     "data": {
      "image/png": "[encoded data removed]",
      "text/plain": [
       "<matplotlib.figure.Figure at 0x7fb9f5b4e550>"
      ]
     },
     "metadata": {},
     "output_type": "display_data"
    }
   ],
   "source": [
    "plt.plot(data.mean(axis=0))"
   ]
  },
  {
   "cell_type": "code",
   "execution_count": 63,
   "metadata": {
    "collapsed": false
   },
   "outputs": [
    {
     "data": {
      "text/plain": [
       "[<matplotlib.lines.Line2D at 0x7fb9f5a93ac8>]"
      ]
     },
     "execution_count": 63,
     "metadata": {},
     "output_type": "execute_result"
    },
    {
     "data": {
      "image/png": "[encoded data removed]",
      "text/plain": [
       "<matplotlib.figure.Figure at 0x7fb9f5ab5e48>"
      ]
     },
     "metadata": {},
     "output_type": "display_data"
    }
   ],
   "source": [
    "plt.plot(data.max(axis=0))"
   ]
  },
  {
   "cell_type": "code",
   "execution_count": 64,
   "metadata": {
    "collapsed": false
   },
   "outputs": [
    {
     "data": {
      "text/plain": [
       "[<matplotlib.lines.Line2D at 0x7fb9f59f84a8>]"
      ]
     },
     "execution_count": 64,
     "metadata": {},
     "output_type": "execute_result"
    },
    {
     "data": {
      "image/png": "[encoded data removed]",
      "text/plain": [
       "<matplotlib.figure.Figure at 0x7fb9f5a9e940>"
      ]
     },
     "metadata": {},
     "output_type": "display_data"
    }
   ],
   "source": [
    "plt.plot(data.min(axis=0))"
   ]
  },
  {
   "cell_type": "code",
   "execution_count": 67,
   "metadata": {
    "collapsed": false
   },
   "outputs": [
    {
     "data": {
      "text/plain": [
       "[<matplotlib.lines.Line2D at 0x7fb9f56c8c50>]"
      ]
     },
     "execution_count": 67,
     "metadata": {},
     "output_type": "execute_result"
    },
    {
     "data": {
      "image/png": "[encoded data removed]",
      "text/plain": [
       "<matplotlib.figure.Figure at 0x7fb9f5921780>"
      ]
     },
     "metadata": {},
     "output_type": "display_data"
    }
   ],
   "source": [
    "fig = plt.figure(figsize=(10,3))\n",
    "\n",
    "ax1 = fig.add_subplot(1, 3, 1)\n",
    "ax2 = fig.add_subplot(1, 3, 2)\n",
    "ax3 = fig.add_subplot(1, 3, 3)\n",
    "\n",
    "ax1.set_ylabel('mean')\n",
    "ax1.plot(data.mean(axis=0))\n",
    "\n",
    "ax2.set_ylabel('max')\n",
    "ax2.plot(data.max(axis=0))\n",
    "\n",
    "ax3.set_ylabel('min')\n",
    "ax3.plot(data.min(axis=0))"
   ]
  },
  {
   "cell_type": "markdown",
   "metadata": {},
   "source": [
    "# Loops are for looping"
   ]
  },
  {
   "cell_type": "code",
   "execution_count": 68,
   "metadata": {
    "collapsed": true
   },
   "outputs": [],
   "source": [
    "word = 'bird'"
   ]
  },
  {
   "cell_type": "code",
   "execution_count": 69,
   "metadata": {
    "collapsed": false
   },
   "outputs": [
    {
     "data": {
      "text/plain": [
       "str"
      ]
     },
     "execution_count": 69,
     "metadata": {},
     "output_type": "execute_result"
    }
   ],
   "source": [
    "type(word)"
   ]
  },
  {
   "cell_type": "code",
   "execution_count": 70,
   "metadata": {
    "collapsed": false
   },
   "outputs": [
    {
     "data": {
      "text/plain": [
       "'b'"
      ]
     },
     "execution_count": 70,
     "metadata": {},
     "output_type": "execute_result"
    }
   ],
   "source": [
    "word[0]"
   ]
  },
  {
   "cell_type": "code",
   "execution_count": 73,
   "metadata": {
    "collapsed": false
   },
   "outputs": [
    {
     "data": {
      "text/plain": [
       "'ird'"
      ]
     },
     "execution_count": 73,
     "metadata": {},
     "output_type": "execute_result"
    }
   ],
   "source": [
    "word[1:]"
   ]
  },
  {
   "cell_type": "code",
   "execution_count": 72,
   "metadata": {
    "collapsed": false
   },
   "outputs": [
    {
     "data": {
      "text/plain": [
       "'d'"
      ]
     },
     "execution_count": 72,
     "metadata": {},
     "output_type": "execute_result"
    }
   ],
   "source": [
    "word[-1]"
   ]
  },
  {
   "cell_type": "code",
   "execution_count": 77,
   "metadata": {
    "collapsed": false
   },
   "outputs": [
    {
     "name": "stdout",
     "output_type": "stream",
     "text": [
      "b\n",
      "i\n",
      "r\n",
      "d\n"
     ]
    }
   ],
   "source": [
    "print(word[0])\n",
    "print(word[1])\n",
    "print(word[2])\n",
    "print(word[3])"
   ]
  },
  {
   "cell_type": "code",
   "execution_count": 78,
   "metadata": {
    "collapsed": true
   },
   "outputs": [],
   "source": [
    "word = 'supercallifragilisticexpialidocious'"
   ]
  },
  {
   "cell_type": "code",
   "execution_count": 79,
   "metadata": {
    "collapsed": true
   },
   "outputs": [
    {
     "name": "stdout",
     "output_type": "stream",
     "text": [
      "s\n",
      "u\n",
      "p\n",
      "e\n",
      "r\n",
      "c\n",
      "a\n",
      "l\n",
      "l\n",
      "i\n",
      "f\n",
      "r\n",
      "a\n",
      "g\n",
      "i\n",
      "l\n",
      "i\n",
      "s\n",
      "t\n",
      "i\n",
      "c\n",
      "e\n",
      "x\n",
      "p\n",
      "i\n",
      "a\n",
      "l\n",
      "i\n",
      "d\n",
      "o\n",
      "c\n",
      "i\n",
      "o\n",
      "u\n",
      "s\n"
     ]
    }
   ],
   "source": [
    "for letter in word:\n",
    "    print(letter)"
   ]
  },
  {
   "cell_type": "code",
   "execution_count": 80,
   "metadata": {
    "collapsed": true
   },
   "outputs": [
    {
     "name": "stdout",
     "output_type": "stream",
     "text": [
      "[  0.   0.   1.   3.   1.   2.   4.   7.   8.   3.   3.   3.  10.   5.   7.\n",
      "   4.   7.   7.  12.  18.   6.  13.  11.  11.   7.   7.   4.   6.   8.   8.\n",
      "   4.   4.   5.   7.   3.   4.   2.   3.   0.   0.]\n",
      "[  0.   1.   2.   1.   2.   1.   3.   2.   2.   6.  10.  11.   5.   9.   4.\n",
      "   4.   7.  16.   8.   6.  18.   4.  12.   5.  12.   7.  11.   5.  11.   3.\n",
      "   3.   5.   4.   4.   5.   5.   1.   1.   0.   1.]\n",
      "[  0.   1.   1.   3.   3.   2.   6.   2.   5.   9.   5.   7.   4.   5.   4.\n",
      "  15.   5.  11.   9.  10.  19.  14.  12.  17.   7.  12.  11.   7.   4.   2.\n",
      "  10.   5.   4.   2.   2.   3.   2.   2.   1.   1.]\n",
      "[  0.   0.   2.   0.   4.   2.   2.   1.   6.   7.  10.   7.   9.  13.   8.\n",
      "   8.  15.  10.  10.   7.  17.   4.   4.   7.   6.  15.   6.   4.   9.  11.\n",
      "   3.   5.   6.   3.   3.   4.   2.   3.   2.   1.]\n",
      "[  0.   1.   1.   3.   3.   1.   3.   5.   2.   4.   4.   7.   6.   5.   3.\n",
      "  10.   8.  10.   6.  17.   9.  14.   9.   7.  13.   9.  12.   6.   7.   7.\n",
      "   9.   6.   3.   2.   2.   4.   2.   0.   1.   1.]\n",
      "[  0.   0.   1.   2.   2.   4.   2.   1.   6.   4.   7.   6.   6.   9.   9.\n",
      "  15.   4.  16.  18.  12.  12.   5.  18.   9.   5.   3.  10.   3.  12.   7.\n",
      "   8.   4.   7.   3.   5.   4.   4.   3.   2.   1.]\n",
      "[  0.   0.   2.   2.   4.   2.   2.   5.   5.   8.   6.   5.  11.   9.   4.\n",
      "  13.   5.  12.  10.   6.   9.  17.  15.   8.   9.   3.  13.   7.   8.   2.\n",
      "   8.   8.   4.   2.   3.   5.   4.   1.   1.   1.]\n",
      "[  0.   0.   1.   2.   3.   1.   2.   3.   5.   3.   7.   8.   8.   5.  10.\n",
      "   9.  15.  11.  18.  19.  20.   8.   5.  13.  15.  10.   6.  10.   6.   7.\n",
      "   4.   9.   3.   5.   2.   5.   3.   2.   2.   1.]\n",
      "[  0.   0.   0.   3.   1.   5.   6.   5.   5.   8.   2.   4.  11.  12.  10.\n",
      "  11.   9.  10.  17.  11.   6.  16.  12.   6.   8.  14.   6.  13.  10.  11.\n",
      "   4.   6.   4.   7.   6.   3.   2.   1.   0.   0.]\n",
      "[  0.   1.   1.   2.   1.   3.   5.   3.   5.   8.   6.   8.  12.   5.  13.\n",
      "   6.  13.   8.  16.   8.  18.  15.  16.  14.  12.   7.   3.   8.   9.  11.\n",
      "   2.   5.   4.   5.   1.   4.   1.   2.   0.   0.]\n",
      "[  0.   1.   0.   0.   4.   3.   3.   5.   5.   4.   5.   8.   7.  10.  13.\n",
      "   3.   7.  13.  15.  18.   8.  15.  15.  16.  11.  14.  12.   4.  10.  10.\n",
      "   4.   3.   4.   5.   5.   3.   3.   2.   2.   1.]\n",
      "[  0.   1.   0.   0.   3.   4.   2.   7.   8.   5.   2.   8.  11.   5.   5.\n",
      "   8.  14.  11.   6.  11.   9.  16.  18.   6.  12.   5.   4.   3.   5.   7.\n",
      "   8.   3.   5.   4.   5.   5.   4.   0.   1.   1.]\n",
      "[  0.   0.   2.   1.   4.   3.   6.   4.   6.   7.   9.   9.   3.  11.   6.\n",
      "  12.   4.  17.  13.  15.  13.  12.   8.   7.   4.   7.  12.   9.   5.   6.\n",
      "   5.   4.   7.   3.   5.   4.   2.   3.   0.   1.]\n",
      "[  0.   0.   0.   0.   1.   3.   1.   6.   6.   5.   5.   6.   3.   6.  13.\n",
      "   3.  10.  13.   9.  16.  15.   9.  11.   4.   6.   4.  11.  11.  12.   3.\n",
      "   5.   8.   7.   4.   6.   4.   1.   3.   0.   0.]\n",
      "[  0.   1.   2.   1.   1.   1.   4.   1.   5.   2.   3.   3.  10.   7.  13.\n",
      "   5.   7.  17.   6.   9.  12.  13.  10.   4.  12.   4.   6.   7.   6.  10.\n",
      "   8.   2.   5.   1.   3.   4.   2.   0.   2.   0.]\n",
      "[  0.   1.   1.   0.   1.   2.   4.   3.   6.   4.   7.   5.   5.   7.   5.\n",
      "  10.   7.   8.  18.  17.   9.   8.  12.  11.  11.  11.  14.   6.  11.   2.\n",
      "  10.   9.   5.   6.   5.   3.   4.   2.   2.   0.]\n",
      "[  0.   0.   0.   0.   2.   3.   6.   5.   7.   4.   3.   2.  10.   7.   9.\n",
      "  11.  12.   5.  12.   9.  13.  19.  14.  17.   5.  13.   8.  11.   5.  10.\n",
      "   9.   8.   7.   5.   3.   1.   4.   0.   2.   1.]\n",
      "[  0.   0.   0.   1.   2.   1.   4.   3.   6.   7.   4.   2.  12.   6.  12.\n",
      "   4.  14.   7.   8.  14.  13.  19.   6.   9.  12.   6.   4.  13.   6.   7.\n",
      "   2.   3.   6.   5.   4.   2.   3.   0.   1.   0.]\n",
      "[  0.   0.   2.   1.   2.   5.   4.   2.   7.   8.   4.   7.  11.   9.   8.\n",
      "  11.  15.  17.  11.  12.   7.  12.   7.   6.   7.   4.  13.   5.   7.   6.\n",
      "   6.   9.   2.   1.   1.   2.   2.   0.   1.   0.]\n",
      "[  0.   1.   2.   0.   1.   4.   3.   2.   2.   7.   3.   3.  12.  13.  11.\n",
      "  13.   6.   5.   9.  16.   9.  19.  16.  11.   8.   9.  14.  12.  11.   9.\n",
      "   6.   6.   6.   1.   1.   2.   4.   3.   1.   1.]\n",
      "[  0.   1.   1.   3.   1.   4.   4.   1.   8.   2.   2.   3.  12.  12.  10.\n",
      "  15.  13.   6.   5.   5.  18.  19.   9.   6.  11.  12.   7.   6.   3.   6.\n",
      "   3.   2.   4.   3.   1.   5.   4.   2.   2.   0.]\n",
      "[  0.   0.   2.   3.   2.   3.   2.   6.   3.   8.   7.   4.   6.   6.   9.\n",
      "   5.  12.  12.   8.   5.  12.  10.  16.   7.  14.  12.   5.   4.   6.   9.\n",
      "   8.   5.   6.   6.   1.   4.   3.   0.   2.   0.]\n",
      "[  0.   0.   0.   3.   4.   5.   1.   7.   7.   8.   2.   5.  12.   4.  10.\n",
      "  14.   5.   5.  17.  13.  16.  15.  13.   6.  12.   9.  10.   3.   3.   7.\n",
      "   4.   4.   8.   2.   6.   5.   1.   0.   1.   0.]\n",
      "[  0.   1.   1.   1.   1.   3.   3.   2.   6.   3.   9.   7.   8.   8.   4.\n",
      "  13.   7.  14.  11.  15.  14.  13.   5.  13.   7.  14.   9.  10.   5.  11.\n",
      "   5.   3.   5.   1.   1.   4.   4.   1.   2.   0.]\n",
      "[  0.   1.   1.   1.   2.   3.   5.   3.   6.   3.   7.  10.   3.   8.  12.\n",
      "   4.  12.   9.  15.   5.  17.  16.   5.  10.  10.  15.   7.   5.   3.  11.\n",
      "   5.   5.   6.   1.   1.   1.   1.   0.   2.   1.]\n",
      "[  0.   0.   2.   1.   3.   3.   2.   7.   4.   4.   3.   8.  12.   9.  12.\n",
      "   9.   5.  16.   8.  17.   7.  11.  14.   7.  13.  11.   7.  12.  12.   7.\n",
      "   8.   5.   7.   2.   2.   4.   1.   1.   1.   0.]\n",
      "[  0.   0.   1.   2.   4.   2.   2.   3.   5.   7.  10.   5.   5.  12.   3.\n",
      "  13.   4.  13.   7.  15.   9.  12.  18.  14.  16.  12.   3.  11.   3.   2.\n",
      "   7.   4.   8.   2.   2.   1.   3.   0.   1.   1.]\n",
      "[  0.   0.   1.   1.   1.   5.   1.   5.   2.   2.   4.  10.   4.   8.  14.\n",
      "   6.  15.   6.  12.  15.  15.  13.   7.  17.   4.   5.  11.   4.   8.   7.\n",
      "   9.   4.   5.   3.   2.   5.   4.   3.   2.   1.]\n",
      "[  0.   0.   2.   2.   3.   4.   6.   3.   7.   6.   4.   5.   8.   4.   7.\n",
      "   7.   6.  11.  12.  19.  20.  18.   9.   5.   4.   7.  14.   8.   4.   3.\n",
      "   7.   7.   8.   3.   5.   4.   1.   3.   1.   0.]\n",
      "[  0.   0.   0.   1.   4.   4.   6.   3.   8.   6.   4.  10.  12.   3.   3.\n",
      "   6.   8.   7.  17.  16.  14.  15.  17.   4.  14.  13.   4.   4.  12.  11.\n",
      "   6.   9.   5.   5.   2.   5.   2.   1.   0.   1.]\n",
      "[  0.   1.   1.   0.   3.   2.   4.   6.   8.   6.   2.   3.  11.   3.  14.\n",
      "  14.  12.   8.   8.  16.  13.   7.   6.   9.  15.   7.   6.   4.  10.   8.\n",
      "  10.   4.   2.   6.   5.   5.   2.   3.   2.   1.]\n",
      "[  0.   0.   2.   3.   3.   4.   5.   3.   6.   7.  10.   5.  10.  13.  14.\n",
      "   3.   8.  10.   9.   9.  19.  15.  15.   6.   8.   8.  11.   5.   5.   7.\n",
      "   3.   6.   6.   4.   5.   2.   2.   3.   0.   0.]\n",
      "[  0.   1.   2.   2.   2.   3.   6.   6.   6.   7.   6.   3.  11.  12.  13.\n",
      "  15.  15.  10.  14.  11.  11.   8.   6.  12.  10.   5.  12.   7.   7.  11.\n",
      "   5.   8.   5.   2.   5.   5.   2.   0.   2.   1.]\n",
      "[  0.   0.   2.   1.   3.   5.   6.   7.   5.   8.   9.   3.  12.  10.  12.\n",
      "   4.  12.   9.  13.  10.  10.   6.  10.  11.   4.  15.  13.   7.   3.   4.\n",
      "   2.   9.   7.   2.   4.   2.   1.   2.   1.   1.]\n",
      "[  0.   0.   1.   2.   4.   1.   5.   5.   2.   3.   4.   8.   8.  12.   5.\n",
      "  15.   9.  17.   7.  19.  14.  18.  12.  17.  14.   4.  13.  13.   8.  11.\n",
      "   5.   6.   6.   2.   3.   5.   2.   1.   1.   1.]\n",
      "[  0.   0.   0.   3.   1.   3.   6.   4.   3.   4.   8.   3.   4.   8.   3.\n",
      "  11.   5.   7.  10.   5.  15.   9.  16.  17.  16.   3.   8.   9.   8.   3.\n",
      "   3.   9.   5.   1.   6.   5.   4.   2.   2.   0.]\n",
      "[  0.   1.   2.   2.   2.   5.   5.   1.   4.   6.   3.   6.   5.   9.   6.\n",
      "   7.   4.   7.  16.   7.  16.  13.   9.  16.  12.   6.   7.   9.  10.   3.\n",
      "   6.   4.   5.   4.   6.   3.   4.   3.   2.   1.]\n",
      "[  0.   1.   1.   2.   3.   1.   5.   1.   2.   2.   5.   7.   6.   6.   5.\n",
      "  10.   6.   7.  17.  13.  15.  16.  17.  14.   4.   4.  10.  10.  10.  11.\n",
      "   9.   9.   5.   4.   4.   2.   1.   0.   1.   0.]\n",
      "[  0.   1.   0.   3.   2.   4.   1.   1.   5.   9.  10.   7.  12.  10.   9.\n",
      "  15.  12.  13.  13.   6.  19.   9.  10.   6.  13.   5.  13.   6.   7.   2.\n",
      "   5.   5.   2.   1.   1.   1.   1.   3.   0.   1.]\n",
      "[  0.   1.   1.   3.   1.   1.   5.   5.   3.   7.   2.   2.   3.  12.   4.\n",
      "   6.   8.  15.  16.  16.  15.   4.  14.   5.  13.  10.   7.  10.   6.   3.\n",
      "   2.   3.   6.   3.   3.   5.   4.   3.   2.   1.]\n",
      "[  0.   0.   0.   2.   2.   1.   3.   4.   5.   5.   6.   5.   5.  12.  13.\n",
      "   5.   7.   5.  11.  15.  18.   7.   9.  10.  14.  12.  11.   9.  10.   3.\n",
      "   2.   9.   6.   2.   2.   5.   3.   0.   0.   1.]\n",
      "[  0.   0.   1.   3.   3.   1.   2.   1.   8.   9.   2.   8.  10.   3.   8.\n",
      "   6.  10.  13.  11.  17.  19.   6.   4.  11.   6.  12.   7.   5.   5.   4.\n",
      "   4.   8.   2.   6.   6.   4.   2.   2.   0.   0.]\n",
      "[  0.   1.   1.   3.   4.   5.   2.   1.   3.   7.   9.   6.  10.   5.   8.\n",
      "  15.  11.  12.  15.   6.  12.  16.   6.   4.  14.   3.  12.   9.   6.  11.\n",
      "   5.   8.   5.   5.   6.   1.   2.   1.   2.   0.]\n",
      "[  0.   0.   1.   3.   1.   4.   3.   6.   7.   8.   5.   7.  11.   3.   6.\n",
      "  11.   6.  10.   6.  19.  18.  14.   6.  10.   7.   9.   8.   5.   8.   3.\n",
      "  10.   2.   5.   1.   5.   4.   2.   1.   0.   1.]\n",
      "[  0.   1.   1.   3.   3.   4.   4.   6.   3.   4.   9.   9.   7.   6.   8.\n",
      "  15.  12.  15.   6.  11.   6.  18.   5.  14.  15.  12.   9.   8.   3.   6.\n",
      "  10.   6.   8.   7.   2.   5.   4.   3.   1.   1.]\n",
      "[  0.   1.   2.   2.   4.   3.   1.   4.   8.   9.   5.  10.  10.   3.   4.\n",
      "   6.   7.  11.  16.   6.  14.   9.  11.  10.  10.   7.  10.   8.   8.   4.\n",
      "   5.   8.   4.   4.   5.   2.   4.   1.   1.   0.]\n",
      "[  0.   0.   2.   3.   4.   5.   4.   6.   2.   9.   7.   4.   9.  10.   8.\n",
      "  11.  16.  12.  15.  17.  19.  10.  18.  13.  15.  11.   8.   4.   7.  11.\n",
      "   6.   7.   6.   5.   1.   3.   1.   0.   0.   0.]\n",
      "[  0.   1.   1.   3.   1.   4.   6.   2.   8.   2.  10.   3.  11.   9.  13.\n",
      "  15.   5.  15.   6.  10.  10.   5.  14.  15.  12.   7.   4.   5.  11.   4.\n",
      "   6.   9.   5.   6.   1.   1.   2.   1.   2.   1.]\n",
      "[  0.   0.   1.   3.   2.   5.   1.   2.   7.   6.   6.   3.  12.   9.   4.\n",
      "  14.   4.   6.  12.   9.  12.   7.  11.   7.  16.   8.  13.   6.   7.   6.\n",
      "  10.   7.   6.   3.   1.   5.   4.   3.   0.   0.]\n",
      "[  0.   0.   1.   2.   3.   4.   5.   7.   5.   4.  10.   5.  12.  12.   5.\n",
      "   4.   7.   9.  18.  16.  16.  10.  15.  15.  10.   4.   3.   7.   5.   9.\n",
      "   4.   6.   2.   4.   1.   4.   2.   2.   2.   1.]\n",
      "[  0.   1.   2.   1.   1.   3.   5.   3.   6.   3.  10.  10.  11.  10.  13.\n",
      "  10.  13.   6.   6.  14.   5.   4.   5.   5.   9.   4.  12.   7.   7.   4.\n",
      "   7.   9.   3.   3.   6.   3.   4.   1.   2.   0.]\n",
      "[  0.   1.   2.   2.   3.   5.   2.   4.   5.   6.   8.   3.   5.   4.   3.\n",
      "  15.  15.  12.  16.   7.  20.  15.  12.   8.   9.   6.  12.   5.   8.   3.\n",
      "   8.   5.   4.   1.   3.   2.   1.   3.   1.   0.]\n",
      "[  0.   0.   0.   2.   4.   4.   5.   3.   3.   3.  10.   4.   4.   4.  14.\n",
      "  11.  15.  13.  10.  14.  11.  17.   9.  11.  11.   7.  10.  12.  10.  10.\n",
      "  10.   8.   7.   5.   2.   2.   4.   1.   2.   1.]\n",
      "[  0.   0.   2.   1.   1.   4.   4.   7.   2.   9.   4.  10.  12.   7.   6.\n",
      "   6.  11.  12.   9.  15.  15.   6.   6.  13.   5.  12.   9.   6.   4.   7.\n",
      "   7.   6.   5.   4.   1.   4.   2.   2.   2.   1.]\n",
      "[  0.   1.   2.   1.   1.   4.   5.   4.   4.   5.   9.   7.  10.   3.  13.\n",
      "  13.   8.   9.  17.  16.  16.  15.  12.  13.   5.  12.  10.   9.  11.   9.\n",
      "   4.   5.   5.   2.   2.   5.   1.   0.   0.   1.]\n",
      "[  0.   0.   1.   3.   2.   3.   6.   4.   5.   7.   2.   4.  11.  11.   3.\n",
      "   8.   8.  16.   5.  13.  16.   5.   8.   8.   6.   9.  10.  10.   9.   3.\n",
      "   3.   5.   3.   5.   4.   5.   3.   3.   0.   1.]\n",
      "[  0.   1.   1.   2.   2.   5.   1.   7.   4.   2.   5.   5.   4.   6.   6.\n",
      "   4.  16.  11.  14.  16.  14.  14.   8.  17.   4.  14.  13.   7.   6.   3.\n",
      "   7.   7.   5.   6.   3.   4.   2.   2.   1.   1.]\n",
      "[  0.   1.   1.   1.   4.   1.   6.   4.   6.   3.   6.   5.   6.   4.  14.\n",
      "  13.  13.   9.  12.  19.   9.  10.  15.  10.   9.  10.  10.   7.   5.   6.\n",
      "   8.   6.   6.   4.   3.   5.   2.   1.   1.   1.]\n",
      "[  0.   0.   0.   1.   4.   5.   6.   3.   8.   7.   9.  10.   8.   6.   5.\n",
      "  12.  15.   5.  10.   5.   8.  13.  18.  17.  14.   9.  13.   4.  10.  11.\n",
      "  10.   8.   8.   6.   5.   5.   2.   0.   2.   0.]\n",
      "[  0.   0.   1.   0.   3.   2.   5.   4.   8.   2.   9.   3.   3.  10.  12.\n",
      "   9.  14.  11.  13.   8.   6.  18.  11.   9.  13.  11.   8.   5.   5.   2.\n",
      "   8.   5.   3.   5.   4.   1.   3.   1.   1.   0.]\n"
     ]
    }
   ],
   "source": [
    "for i in data:\n",
    "    print(i)"
   ]
  },
  {
   "cell_type": "markdown",
   "metadata": {},
   "source": [
    "Write a for-loop that counts the number of letters in word."
   ]
  },
  {
   "cell_type": "code",
   "execution_count": 83,
   "metadata": {
    "collapsed": false
   },
   "outputs": [
    {
     "name": "stdout",
     "output_type": "stream",
     "text": [
      "number of letters:  35\n"
     ]
    }
   ],
   "source": [
    "counter = 0\n",
    "for letter in word:\n",
    "    counter = counter + 1\n",
    "print(\"number of letters: \", counter)"
   ]
  },
  {
   "cell_type": "code",
   "execution_count": 84,
   "metadata": {
    "collapsed": false
   },
   "outputs": [
    {
     "data": {
      "text/plain": [
       "35"
      ]
     },
     "execution_count": 84,
     "metadata": {},
     "output_type": "execute_result"
    }
   ],
   "source": [
    "len(word)"
   ]
  },
  {
   "cell_type": "markdown",
   "metadata": {},
   "source": [
    "## Lists: ordered collections of other objects (even other lists)"
   ]
  },
  {
   "cell_type": "code",
   "execution_count": 85,
   "metadata": {
    "collapsed": true
   },
   "outputs": [],
   "source": [
    "stuff = list()"
   ]
  },
  {
   "cell_type": "code",
   "execution_count": 86,
   "metadata": {
    "collapsed": false
   },
   "outputs": [
    {
     "data": {
      "text/plain": [
       "[]"
      ]
     },
     "execution_count": 86,
     "metadata": {},
     "output_type": "execute_result"
    }
   ],
   "source": [
    "stuff"
   ]
  },
  {
   "cell_type": "code",
   "execution_count": 87,
   "metadata": {
    "collapsed": true
   },
   "outputs": [],
   "source": [
    "stuff.append('marklar')"
   ]
  },
  {
   "cell_type": "code",
   "execution_count": 88,
   "metadata": {
    "collapsed": false
   },
   "outputs": [
    {
     "data": {
      "text/plain": [
       "['marklar']"
      ]
     },
     "execution_count": 88,
     "metadata": {},
     "output_type": "execute_result"
    }
   ],
   "source": [
    "stuff"
   ]
  },
  {
   "cell_type": "code",
   "execution_count": 90,
   "metadata": {
    "collapsed": true
   },
   "outputs": [],
   "source": [
    "stuff.append('chewbacca')\n",
    "stuff.append(33)"
   ]
  },
  {
   "cell_type": "code",
   "execution_count": 91,
   "metadata": {
    "collapsed": false
   },
   "outputs": [
    {
     "data": {
      "text/plain": [
       "['marklar', 'chewbacca', 'chewbacca', 33]"
      ]
     },
     "execution_count": 91,
     "metadata": {},
     "output_type": "execute_result"
    }
   ],
   "source": [
    "stuff"
   ]
  },
  {
   "cell_type": "code",
   "execution_count": 92,
   "metadata": {
    "collapsed": true
   },
   "outputs": [],
   "source": [
    "stuff.append(data)"
   ]
  },
  {
   "cell_type": "code",
   "execution_count": 93,
   "metadata": {
    "collapsed": false
   },
   "outputs": [
    {
     "data": {
      "text/plain": [
       "['marklar',\n",
       " 'chewbacca',\n",
       " 'chewbacca',\n",
       " 33,\n",
       " array([[ 0.,  0.,  1., ...,  3.,  0.,  0.],\n",
       "        [ 0.,  1.,  2., ...,  1.,  0.,  1.],\n",
       "        [ 0.,  1.,  1., ...,  2.,  1.,  1.],\n",
       "        ..., \n",
       "        [ 0.,  1.,  1., ...,  1.,  1.,  1.],\n",
       "        [ 0.,  0.,  0., ...,  0.,  2.,  0.],\n",
       "        [ 0.,  0.,  1., ...,  1.,  1.,  0.]])]"
      ]
     },
     "execution_count": 93,
     "metadata": {},
     "output_type": "execute_result"
    }
   ],
   "source": [
    "stuff"
   ]
  },
  {
   "cell_type": "code",
   "execution_count": 98,
   "metadata": {
    "collapsed": false
   },
   "outputs": [
    {
     "data": {
      "text/plain": [
       "array([[ 0.,  0.,  1., ...,  3.,  0.,  0.],\n",
       "       [ 0.,  1.,  2., ...,  1.,  0.,  1.],\n",
       "       [ 0.,  1.,  1., ...,  2.,  1.,  1.],\n",
       "       ..., \n",
       "       [ 0.,  1.,  1., ...,  1.,  1.,  1.],\n",
       "       [ 0.,  0.,  0., ...,  0.,  2.,  0.],\n",
       "       [ 0.,  0.,  1., ...,  1.,  1.,  0.]])"
      ]
     },
     "execution_count": 98,
     "metadata": {},
     "output_type": "execute_result"
    }
   ],
   "source": [
    "stuff[-1]"
   ]
  },
  {
   "cell_type": "code",
   "execution_count": 101,
   "metadata": {
    "collapsed": false
   },
   "outputs": [
    {
     "data": {
      "text/plain": [
       "[33, array([[ 0.,  0.,  1., ...,  3.,  0.,  0.],\n",
       "        [ 0.,  1.,  2., ...,  1.,  0.,  1.],\n",
       "        [ 0.,  1.,  1., ...,  2.,  1.,  1.],\n",
       "        ..., \n",
       "        [ 0.,  1.,  1., ...,  1.,  1.,  1.],\n",
       "        [ 0.,  0.,  0., ...,  0.,  2.,  0.],\n",
       "        [ 0.,  0.,  1., ...,  1.,  1.,  0.]])]"
      ]
     },
     "execution_count": 101,
     "metadata": {},
     "output_type": "execute_result"
    }
   ],
   "source": [
    "stuff[-2:]"
   ]
  },
  {
   "cell_type": "code",
   "execution_count": 102,
   "metadata": {
    "collapsed": true
   },
   "outputs": [],
   "source": [
    "stuff.append(list(('chickenfingers', 'frenchfries')))"
   ]
  },
  {
   "cell_type": "code",
   "execution_count": 103,
   "metadata": {
    "collapsed": false
   },
   "outputs": [
    {
     "data": {
      "text/plain": [
       "['marklar',\n",
       " 'chewbacca',\n",
       " 'chewbacca',\n",
       " 33,\n",
       " array([[ 0.,  0.,  1., ...,  3.,  0.,  0.],\n",
       "        [ 0.,  1.,  2., ...,  1.,  0.,  1.],\n",
       "        [ 0.,  1.,  1., ...,  2.,  1.,  1.],\n",
       "        ..., \n",
       "        [ 0.,  1.,  1., ...,  1.,  1.,  1.],\n",
       "        [ 0.,  0.,  0., ...,  0.,  2.,  0.],\n",
       "        [ 0.,  0.,  1., ...,  1.,  1.,  0.]]),\n",
       " ['chickenfingers', 'frenchfries']]"
      ]
     },
     "execution_count": 103,
     "metadata": {},
     "output_type": "execute_result"
    }
   ],
   "source": [
    "stuff"
   ]
  },
  {
   "cell_type": "code",
   "execution_count": 106,
   "metadata": {
    "collapsed": false
   },
   "outputs": [
    {
     "data": {
      "text/plain": [
       "'frenchfries'"
      ]
     },
     "execution_count": 106,
     "metadata": {},
     "output_type": "execute_result"
    }
   ],
   "source": [
    "stuff[-1][1]"
   ]
  },
  {
   "cell_type": "code",
   "execution_count": 107,
   "metadata": {
    "collapsed": true
   },
   "outputs": [],
   "source": [
    "stuff.append(stuff)"
   ]
  },
  {
   "cell_type": "code",
   "execution_count": 108,
   "metadata": {
    "collapsed": false
   },
   "outputs": [
    {
     "data": {
      "text/plain": [
       "['marklar',\n",
       " 'chewbacca',\n",
       " 'chewbacca',\n",
       " 33,\n",
       " array([[ 0.,  0.,  1., ...,  3.,  0.,  0.],\n",
       "        [ 0.,  1.,  2., ...,  1.,  0.,  1.],\n",
       "        [ 0.,  1.,  1., ...,  2.,  1.,  1.],\n",
       "        ..., \n",
       "        [ 0.,  1.,  1., ...,  1.,  1.,  1.],\n",
       "        [ 0.,  0.,  0., ...,  0.,  2.,  0.],\n",
       "        [ 0.,  0.,  1., ...,  1.,  1.,  0.]]),\n",
       " ['chickenfingers', 'frenchfries'],\n",
       " [...]]"
      ]
     },
     "execution_count": 108,
     "metadata": {},
     "output_type": "execute_result"
    }
   ],
   "source": [
    "stuff"
   ]
  },
  {
   "cell_type": "code",
   "execution_count": 112,
   "metadata": {
    "collapsed": false
   },
   "outputs": [
    {
     "data": {
      "text/plain": [
       "['marklar',\n",
       " 'chewbacca',\n",
       " 'chewbacca',\n",
       " 33,\n",
       " array([[ 0.,  0.,  1., ...,  3.,  0.,  0.],\n",
       "        [ 0.,  1.,  2., ...,  1.,  0.,  1.],\n",
       "        [ 0.,  1.,  1., ...,  2.,  1.,  1.],\n",
       "        ..., \n",
       "        [ 0.,  1.,  1., ...,  1.,  1.,  1.],\n",
       "        [ 0.,  0.,  0., ...,  0.,  2.,  0.],\n",
       "        [ 0.,  0.,  1., ...,  1.,  1.,  0.]]),\n",
       " ['chickenfingers', 'frenchfries'],\n",
       " [...]]"
      ]
     },
     "execution_count": 112,
     "metadata": {},
     "output_type": "execute_result"
    }
   ],
   "source": [
    "stuff[-1][-1][-1][-1]"
   ]
  },
  {
   "cell_type": "code",
   "execution_count": 113,
   "metadata": {
    "collapsed": false
   },
   "outputs": [
    {
     "data": {
      "text/plain": [
       "['marklar',\n",
       " 'chewbacca',\n",
       " 'chewbacca',\n",
       " 33,\n",
       " array([[ 0.,  0.,  1., ...,  3.,  0.,  0.],\n",
       "        [ 0.,  1.,  2., ...,  1.,  0.,  1.],\n",
       "        [ 0.,  1.,  1., ...,  2.,  1.,  1.],\n",
       "        ..., \n",
       "        [ 0.,  1.,  1., ...,  1.,  1.,  1.],\n",
       "        [ 0.,  0.,  0., ...,  0.,  2.,  0.],\n",
       "        [ 0.,  0.,  1., ...,  1.,  1.,  0.]]),\n",
       " ['chickenfingers', 'frenchfries'],\n",
       " [...]]"
      ]
     },
     "execution_count": 113,
     "metadata": {},
     "output_type": "execute_result"
    }
   ],
   "source": [
    "stuff[-1]"
   ]
  },
  {
   "cell_type": "code",
   "execution_count": 114,
   "metadata": {
    "collapsed": false
   },
   "outputs": [
    {
     "data": {
      "text/plain": [
       "['marklar',\n",
       " 'chewbacca',\n",
       " 'chewbacca',\n",
       " 33,\n",
       " array([[ 0.,  0.,  1., ...,  3.,  0.,  0.],\n",
       "        [ 0.,  1.,  2., ...,  1.,  0.,  1.],\n",
       "        [ 0.,  1.,  1., ...,  2.,  1.,  1.],\n",
       "        ..., \n",
       "        [ 0.,  1.,  1., ...,  1.,  1.,  1.],\n",
       "        [ 0.,  0.,  0., ...,  0.,  2.,  0.],\n",
       "        [ 0.,  0.,  1., ...,  1.,  1.,  0.]]),\n",
       " ['chickenfingers', 'frenchfries'],\n",
       " [...]]"
      ]
     },
     "execution_count": 114,
     "metadata": {},
     "output_type": "execute_result"
    }
   ],
   "source": [
    "stuff[6]"
   ]
  },
  {
   "cell_type": "code",
   "execution_count": null,
   "metadata": {
    "collapsed": true
   },
   "outputs": [],
   "source": []
  }
 ],
 "metadata": {
  "kernelspec": {
   "display_name": "Python 3",
   "language": "python",
   "name": "python3"
  },
  "language_info": {
   "codemirror_mode": {
    "name": "ipython",
    "version": 3
   },
   "file_extension": ".py",
   "mimetype": "text/x-python",
   "name": "python",
   "nbconvert_exporter": "python",
   "pygments_lexer": "ipython3",
   "version": "3.5.1"
  }
 },
 "nbformat": 4,
 "nbformat_minor": 0
}
